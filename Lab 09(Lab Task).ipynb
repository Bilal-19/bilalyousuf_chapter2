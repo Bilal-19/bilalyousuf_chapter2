{
 "cells": [
  {
   "cell_type": "markdown",
   "metadata": {},
   "source": [
    "# Lab 09: Sets in Python"
   ]
  },
  {
   "cell_type": "markdown",
   "metadata": {},
   "source": [
    "# Program 01:"
   ]
  },
  {
   "cell_type": "code",
   "execution_count": 11,
   "metadata": {},
   "outputs": [
    {
     "name": "stdout",
     "output_type": "stream",
     "text": [
      "{'345-67-89', '123-45-670', '234-56-78', '123-45-67'}\n",
      "The length of phonebook1 is: 4\n",
      "The given phonebook1 is: {'345-67-89', '123-45-670', '234-56-78', '123-45-67'}\n"
     ]
    }
   ],
   "source": [
    "phonebook1 = {'123-45-670', '234-56-78', '345-67-89', '123-45-67', '345-67-89'}\n",
    "print(phonebook1)\n",
    "set_len = len(phonebook1)\n",
    "print(\"The length of phonebook1 is:\", set_len)\n",
    "print(\"The given phonebook1 is:\", phonebook1)"
   ]
  },
  {
   "cell_type": "markdown",
   "metadata": {},
   "source": [
    "# Program 02:"
   ]
  },
  {
   "cell_type": "code",
   "execution_count": 2,
   "metadata": {},
   "outputs": [
    {
     "name": "stdout",
     "output_type": "stream",
     "text": [
      "{'Usman Institute of Technology', 17.5, (1, 2, 3, 4, 5, 6)}\n",
      "The length of mix data is: 3\n"
     ]
    }
   ],
   "source": [
    "mix_data = {'Usman Institute of Technology', 17.5, (1,2,3,4,5,6)}\n",
    "print(mix_data)\n",
    "set_len=len(mix_data)\n",
    "print(\"The length of mix data is:\", set_len)"
   ]
  },
  {
   "cell_type": "markdown",
   "metadata": {},
   "source": [
    "# Program 03:"
   ]
  },
  {
   "cell_type": "code",
   "execution_count": 3,
   "metadata": {},
   "outputs": [
    {
     "name": "stdout",
     "output_type": "stream",
     "text": [
      "For a Data Scientist specialization you need: {'Git', 'Tableau', 'SQL', 'SAS', 'R', 'Python'}\n",
      "For a Data Engineer specialization you need: {'Scala', 'Git', 'Java', 'Hadoop', 'SQL', 'Python'}\n"
     ]
    }
   ],
   "source": [
    "dataScientist = set(['Python', 'R', 'SQL', 'Git', 'Tableau', 'SAS'])\n",
    "dataEngineer = set(['Python', 'Java', 'Scala', 'Git', 'SQL', 'Hadoop'])\n",
    "print(\"For a Data Scientist specialization you need:\", dataScientist)\n",
    "print(\"For a Data Engineer specialization you need:\", dataEngineer)"
   ]
  },
  {
   "cell_type": "markdown",
   "metadata": {},
   "source": [
    "# Program 04:"
   ]
  },
  {
   "cell_type": "code",
   "execution_count": 4,
   "metadata": {},
   "outputs": [
    {
     "name": "stdout",
     "output_type": "stream",
     "text": [
      "set()\n",
      "{}\n",
      "()\n"
     ]
    }
   ],
   "source": [
    "My_empty_set = set()\n",
    "My_empty_dictionary1 = dict()\n",
    "My_empty_dictionary2 = ()\n",
    "\n",
    "print(My_empty_set)\n",
    "print(My_empty_dictionary1)\n",
    "print(My_empty_dictionary2)"
   ]
  },
  {
   "cell_type": "markdown",
   "metadata": {},
   "source": [
    "# Program 05:"
   ]
  },
  {
   "cell_type": "code",
   "execution_count": 5,
   "metadata": {},
   "outputs": [
    {
     "name": "stdout",
     "output_type": "stream",
     "text": [
      "My top scoring students in Programing fundamentals are: {'Ahad', 'Yusra', 'Rafeh', 'Asma', 'Bassam', 'Wadood', 'Usman'}\n",
      "Oh, I guess I miss one student, let me add his name too\n",
      "Previously I have added :7students in my list\n",
      "Thanks, I have remembered him\n",
      "Now my top scoring students names are: {'Ahad', 'Yusra', 'Rafeh', 'Asma', 'Bassam', 'Wadood', 'Khurram', 'Usman'}\n",
      "Now after adding I have :8students in my list\n"
     ]
    }
   ],
   "source": [
    "My_topStudents = {'Bassam', 'Usman', 'Rafeh', 'Ahad', 'Wadood', 'Yusra', 'Asma'}\n",
    "print('My top scoring students in Programing fundamentals are:', My_topStudents)\n",
    "print('Oh, I guess I miss one student, let me add his name too')\n",
    "print('Previously I have added :'+str(len(My_topStudents))+'students in my list')\n",
    "My_topStudents.add('Khurram')\n",
    "print('Thanks, I have remembered him')\n",
    "print('Now my top scoring students names are:', My_topStudents)\n",
    "print('Now after adding I have :'+str(len(My_topStudents))+'students in my list')"
   ]
  },
  {
   "cell_type": "markdown",
   "metadata": {},
   "source": [
    "# Program 06:"
   ]
  },
  {
   "cell_type": "code",
   "execution_count": 6,
   "metadata": {},
   "outputs": [
    {
     "name": "stdout",
     "output_type": "stream",
     "text": [
      "My top scoring students in Programing fundamentals are: {'Ahad', 'Yusra', 'Rafeh', 'Asma', 'Bassam', 'Wadood', 'Usman'}\n",
      "Oh, I guess I miss one student, let me add his name too\n",
      "Previously I have added :7students in my list\n",
      "Thanks, I have remembered him\n",
      "Now my top scoring students names are: {'Khurram Khan', 'Ahad', 'Yusra', 'Khurram Khalil', 'Rafeh', 'Asma', 'Bassam', 'Wadood', 'Usman'}\n",
      "Now after adding I have :9students in my list\n",
      "Oh, I guess I have added one student with similar name, let me remove his name.\n",
      "Now my top scoring students names after removing extra name are: {'Khurram Khan', 'Ahad', 'Yusra', 'Rafeh', 'Asma', 'Bassam', 'Wadood', 'Usman'}\n",
      "Now after removing I have :8students in my list\n"
     ]
    }
   ],
   "source": [
    "My_topStudents = {'Bassam', 'Usman', 'Rafeh', 'Ahad', 'Wadood', 'Yusra', 'Asma'}\n",
    "print('My top scoring students in Programing fundamentals are:', My_topStudents)\n",
    "print('Oh, I guess I miss one student, let me add his name too')\n",
    "print('Previously I have added :'+str(len(My_topStudents))+'students in my list')\n",
    "My_topStudents.add('Khurram Khalil')\n",
    "My_topStudents.add('Khurram Khan')\n",
    "print('Thanks, I have remembered him')\n",
    "print('Now my top scoring students names are:', My_topStudents)\n",
    "print('Now after adding I have :'+str(len(My_topStudents))+'students in my list')\n",
    "print('Oh, I guess I have added one student with similar name, let me remove his name.')\n",
    "My_topStudents.remove('Khurram Khalil')\n",
    "print('Now my top scoring students names after removing extra name are:', My_topStudents)\n",
    "print('Now after removing I have :'+str(len(My_topStudents))+'students in my list')"
   ]
  },
  {
   "cell_type": "markdown",
   "metadata": {},
   "source": [
    "# Program 07:"
   ]
  },
  {
   "cell_type": "code",
   "execution_count": 7,
   "metadata": {},
   "outputs": [
    {
     "name": "stdout",
     "output_type": "stream",
     "text": [
      "My top scoring students in Programing fundamentals are: {'Ahad', 'Yusra', 'Rafeh', 'Asma', 'Bassam', 'Wadood', 'Usman'}\n",
      "Oh, I guess I miss one student, let me add his name too\n",
      "Previously I have added :7students in my list\n",
      "Thanks, I have remembered him\n",
      "Now my top scoring students names are: {'Khurram Khan', 'Ahad', 'Yusra', 'Khurram Khalil', 'Rafeh', 'Asma', 'Bassam', 'Wadood', 'Usman'}\n",
      "Now after adding I have :9students in my list\n",
      "Oh, I guess I have added one student with similar name, let me remove his name.\n",
      "Now my top scoring students names after removing extra name are: {'Khurram Khan', 'Ahad', 'Yusra', 'Rafeh', 'Asma', 'Bassam', 'Wadood', 'Usman'}\n",
      "Now after removing I have :8students in my list\n",
      "Now my top scoring students names after removing extra name are: {'Khurram Khan', 'Ahad', 'Yusra', 'Rafeh', 'Asma', 'Bassam', 'Wadood', 'Usman'}\n",
      "Now after removing I have :8students in my list\n"
     ]
    }
   ],
   "source": [
    "My_topStudents = {'Bassam', 'Usman', 'Rafeh', 'Ahad', 'Wadood', 'Yusra', 'Asma'}\n",
    "print('My top scoring students in Programing fundamentals are:', My_topStudents)\n",
    "print('Oh, I guess I miss one student, let me add his name too')\n",
    "print('Previously I have added :'+str(len(My_topStudents))+'students in my list')\n",
    "My_topStudents.add('Khurram Khalil')\n",
    "My_topStudents.add('Khurram Khan')\n",
    "print('Thanks, I have remembered him')\n",
    "print('Now my top scoring students names are:', My_topStudents)\n",
    "print('Now after adding I have :'+str(len(My_topStudents))+'students in my list')\n",
    "print('Oh, I guess I have added one student with similar name, let me remove his name.')\n",
    "My_topStudents.remove('Khurram Khalil')\n",
    "print('Now my top scoring students names after removing extra name are:', My_topStudents)\n",
    "print('Now after removing I have :'+str(len(My_topStudents))+'students in my list')\n",
    "My_topStudents.discard('Khurram Khalil')\n",
    "print('Now my top scoring students names after removing extra name are:', My_topStudents)\n",
    "print('Now after removing I have :'+str(len(My_topStudents))+'students in my list')"
   ]
  },
  {
   "cell_type": "markdown",
   "metadata": {},
   "source": [
    "# Program 08:"
   ]
  },
  {
   "cell_type": "code",
   "execution_count": 8,
   "metadata": {},
   "outputs": [
    {
     "name": "stdout",
     "output_type": "stream",
     "text": [
      "My top scoring students in Programing fundamentals are: {'Ahad', 'Yusra', 'Rafeh', 'Asma', 'Bassam', 'Wadood', 'Usman'}\n",
      "Oh, I guess I miss one student, let me add his name too\n",
      "Previously I have added :7students in my list\n",
      "Thanks, I have remembered him\n",
      "Now my top scoring students names are: {'Khurram Khan', 'Ahad', 'Yusra', 'Khurram Khalil', 'Rafeh', 'Asma', 'Bassam', 'Wadood', 'Usman'}\n",
      "Now after adding I have :9students in my list\n",
      "Oh, I guess I have added one student with similar name, let me remove his name.\n",
      "Now my top scoring students names after removing extra name are: {'Khurram Khan', 'Ahad', 'Yusra', 'Rafeh', 'Asma', 'Bassam', 'Wadood', 'Usman'}\n",
      "Now after removing I have :8students in my list\n",
      "Now my top scoring students names after removing extra name are: {'Khurram Khan', 'Ahad', 'Yusra', 'Rafeh', 'Asma', 'Bassam', 'Wadood', 'Usman'}\n",
      "Now after removing I have :8students in my list\n",
      "Now my top scoring students names after removing extra name are: {'Ahad', 'Yusra', 'Rafeh', 'Asma', 'Bassam', 'Wadood', 'Usman'}\n",
      "Now after removing I have :7students in my list\n"
     ]
    }
   ],
   "source": [
    "My_topStudents = {'Bassam', 'Usman', 'Rafeh', 'Ahad', 'Wadood', 'Yusra', 'Asma'}\n",
    "print('My top scoring students in Programing fundamentals are:', My_topStudents)\n",
    "print('Oh, I guess I miss one student, let me add his name too')\n",
    "print('Previously I have added :'+str(len(My_topStudents))+'students in my list')\n",
    "My_topStudents.add('Khurram Khalil')\n",
    "My_topStudents.add('Khurram Khan')\n",
    "print('Thanks, I have remembered him')\n",
    "print('Now my top scoring students names are:', My_topStudents)\n",
    "print('Now after adding I have :'+str(len(My_topStudents))+'students in my list')\n",
    "print('Oh, I guess I have added one student with similar name, let me remove his name.')\n",
    "My_topStudents.remove('Khurram Khalil')\n",
    "print('Now my top scoring students names after removing extra name are:', My_topStudents)\n",
    "print('Now after removing I have :'+str(len(My_topStudents))+'students in my list')\n",
    "My_topStudents.discard('Khurram Khalil')\n",
    "print('Now my top scoring students names after removing extra name are:', My_topStudents)\n",
    "print('Now after removing I have :'+str(len(My_topStudents))+'students in my list')\n",
    "My_topStudents.pop()\n",
    "print('Now my top scoring students names after removing extra name are:', My_topStudents)\n",
    "print('Now after removing I have :'+str(len(My_topStudents))+'students in my list')"
   ]
  },
  {
   "cell_type": "markdown",
   "metadata": {},
   "source": [
    "# Program 09:"
   ]
  },
  {
   "cell_type": "code",
   "execution_count": 9,
   "metadata": {},
   "outputs": [
    {
     "name": "stdout",
     "output_type": "stream",
     "text": [
      "My top scoring students in Programming fundamentals are: {'Ahad', 'Yusra', 'Rafeh', 'Asma', 'Bassam', 'Wadood', 'Usman'}\n",
      "Lets me clear this list and prepare new list for the final exams\n",
      "Now after clearing the set I have : None\n"
     ]
    }
   ],
   "source": [
    "My_topStudents = {'Bassam', 'Usman', 'Rafeh', 'Ahad', 'Wadood', 'Yusra', 'Asma'}\n",
    "print('My top scoring students in Programming fundamentals are:', My_topStudents)\n",
    "print('Lets me clear this list and prepare new list for the final exams')\n",
    "My_topStudents = My_topStudents.clear()\n",
    "print('Now after clearing the set I have :', My_topStudents)"
   ]
  },
  {
   "cell_type": "markdown",
   "metadata": {},
   "source": [
    "# Program 10:"
   ]
  },
  {
   "cell_type": "code",
   "execution_count": 10,
   "metadata": {},
   "outputs": [
    {
     "name": "stdout",
     "output_type": "stream",
     "text": [
      "Phonebook1 is : {'345-67-89', '234-56-78', '123-45-67'}\n",
      "Phonebook3 is : {'345-67-89', '456-78-90'}\n",
      "The Union of Phonebook1 and Phonebook3: {'345-67-89', '456-78-90', '123-45-67', '234-56-78'}\n",
      "The Union of Phonebook3 and Phonebook1: {'345-67-89', '456-78-90', '123-45-67', '234-56-78'}\n",
      "The Intersection of Phonebook1 and Phonebook3: {'345-67-89'}\n",
      "The Intersection of Phonebook3 and Phonebook1: {'345-67-89'}\n",
      "The Difference Between Phonebook1 and Phonebook3: {'234-56-78', '123-45-67'}\n",
      "The Difference Between Phonebook3 and Phonebook1: {'456-78-90'}\n",
      "The Symmetric Difference Between Phonebook1 and Phonebook3: {'456-78-90', '234-56-78', '123-45-67'}\n",
      "The Symmetric Difference Between Phonebook3 and Phonebook1: {'456-78-90', '234-56-78', '123-45-67'}\n"
     ]
    }
   ],
   "source": [
    "phonebook1 = {'123-45-67', '234-56-78', '345-67-89', '123-45-67', '345-67-89'}\n",
    "phonebook3 = {'345-67-89', '456-78-90'}\n",
    "print(\"Phonebook1 is :\", phonebook1)\n",
    "print(\"Phonebook3 is :\", phonebook3)\n",
    "print(\"The Union of Phonebook1 and Phonebook3:\", phonebook1 | phonebook3)\n",
    "print(\"The Union of Phonebook3 and Phonebook1:\", phonebook3 | phonebook1)\n",
    "print(\"The Intersection of Phonebook1 and Phonebook3:\", phonebook1 & phonebook3)\n",
    "print(\"The Intersection of Phonebook3 and Phonebook1:\", phonebook3 & phonebook1)\n",
    "print(\"The Difference Between Phonebook1 and Phonebook3:\", phonebook1 - phonebook3)\n",
    "print(\"The Difference Between Phonebook3 and Phonebook1:\", phonebook3 - phonebook1)\n",
    "print(\"The Symmetric Difference Between Phonebook1 and Phonebook3:\", phonebook1 ^ phonebook3)\n",
    "print(\"The Symmetric Difference Between Phonebook3 and Phonebook1:\", phonebook3 ^ phonebook1)"
   ]
  }
 ],
 "metadata": {
  "kernelspec": {
   "display_name": "Python 3",
   "language": "python",
   "name": "python3"
  },
  "language_info": {
   "codemirror_mode": {
    "name": "ipython",
    "version": 3
   },
   "file_extension": ".py",
   "mimetype": "text/x-python",
   "name": "python",
   "nbconvert_exporter": "python",
   "pygments_lexer": "ipython3",
   "version": "3.7.3"
  }
 },
 "nbformat": 4,
 "nbformat_minor": 2
}
