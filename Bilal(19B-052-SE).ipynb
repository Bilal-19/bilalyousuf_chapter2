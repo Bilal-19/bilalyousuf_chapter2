{
 "cells": [
  {
   "cell_type": "markdown",
   "metadata": {},
   "source": [
    "# Lab 06: String Revisited, Formatted Output and Getting and Formatting the Date and Time"
   ]
  },
  {
   "cell_type": "markdown",
   "metadata": {},
   "source": [
    "# Question 01:"
   ]
  },
  {
   "cell_type": "code",
   "execution_count": 1,
   "metadata": {},
   "outputs": [
    {
     "data": {
      "text/plain": [
       "'Sunday, January, 26, 2020'"
      ]
     },
     "execution_count": 1,
     "metadata": {},
     "output_type": "execute_result"
    }
   ],
   "source": [
    "#(a)\n",
    "import time\n",
    "time.strftime('%A, %B, %d, %Y')"
   ]
  },
  {
   "cell_type": "code",
   "execution_count": 2,
   "metadata": {},
   "outputs": [
    {
     "data": {
      "text/plain": [
       "'06:13 PM Pakistan Standard Time Central Daylight Time on 01/26/2020'"
      ]
     },
     "execution_count": 2,
     "metadata": {},
     "output_type": "execute_result"
    }
   ],
   "source": [
    "#(b)\n",
    "import time\n",
    "time.strftime('%I:%M %p %Z Central Daylight Time on %m/%d/%Y')"
   ]
  },
  {
   "cell_type": "code",
   "execution_count": 3,
   "metadata": {},
   "outputs": [
    {
     "data": {
      "text/plain": [
       "'I will meet you on Sun January 26 at 06:13 PM'"
      ]
     },
     "execution_count": 3,
     "metadata": {},
     "output_type": "execute_result"
    }
   ],
   "source": [
    "#(c)\n",
    "import time\n",
    "time.strftime('I will meet you on %a %B %d at %I:%M %p') "
   ]
  },
  {
   "cell_type": "markdown",
   "metadata": {},
   "source": [
    "# Question 02:"
   ]
  },
  {
   "cell_type": "code",
   "execution_count": 4,
   "metadata": {},
   "outputs": [
    {
     "data": {
      "text/plain": [
       "2"
      ]
     },
     "execution_count": 4,
     "metadata": {},
     "output_type": "execute_result"
    }
   ],
   "source": [
    "#(a)\n",
    "forecast = \"It will be a sunny day today\"\n",
    "forecast.count('day')"
   ]
  },
  {
   "cell_type": "code",
   "execution_count": 5,
   "metadata": {},
   "outputs": [
    {
     "data": {
      "text/plain": [
       "13"
      ]
     },
     "execution_count": 5,
     "metadata": {},
     "output_type": "execute_result"
    }
   ],
   "source": [
    "#(b)\n",
    "forecast = \"It will be a sunny day today\"\n",
    "forecast.find('sunny')"
   ]
  },
  {
   "cell_type": "code",
   "execution_count": 6,
   "metadata": {},
   "outputs": [
    {
     "data": {
      "text/plain": [
       "'It will be a cloudy day today'"
      ]
     },
     "execution_count": 6,
     "metadata": {},
     "output_type": "execute_result"
    }
   ],
   "source": [
    "#(c)\n",
    "forecast = \"It will be a sunny day today\"\n",
    "forecast.replace('sunny','cloudy')"
   ]
  },
  {
   "cell_type": "markdown",
   "metadata": {},
   "source": [
    "# Question 03:"
   ]
  },
  {
   "cell_type": "code",
   "execution_count": 7,
   "metadata": {},
   "outputs": [
    {
     "name": "stdout",
     "output_type": "stream",
     "text": [
      "2,4,5,6,"
     ]
    }
   ],
   "source": [
    "def even(n):\n",
    "    for i in range(2,n+1):\n",
    "        if i%2 == 0:\n",
    "            print(i, end=(','))\n",
    "        elif i%3 != 0:\n",
    "            print(i, end=(','))\n",
    "even(6)"
   ]
  },
  {
   "cell_type": "markdown",
   "metadata": {},
   "source": [
    "# Question 04:"
   ]
  },
  {
   "cell_type": "code",
   "execution_count": 11,
   "metadata": {},
   "outputs": [
    {
     "name": "stdout",
     "output_type": "stream",
     "text": [
      "Bilal\n",
      "Muhammad Yousuf\n",
      "University Road\n",
      "12345\n",
      "Karachi\n",
      "Pakistan\n",
      "09876\n"
     ]
    }
   ],
   "source": [
    "def mailaddress():\n",
    "    first = 'Bilal'\n",
    "    last = 'Muhammad Yousuf'\n",
    "    street = 'University Road'\n",
    "    number = '12345'\n",
    "    city = 'Karachi'\n",
    "    state = 'Pakistan'\n",
    "    zipcode = '09876'\n",
    "    print(first,last,street,number,city,state,zipcode, sep=\"\\n\")\n",
    "mailaddress()"
   ]
  },
  {
   "cell_type": "markdown",
   "metadata": {},
   "source": [
    "# Question 05:"
   ]
  },
  {
   "cell_type": "code",
   "execution_count": 9,
   "metadata": {},
   "outputs": [
    {
     "name": "stdout",
     "output_type": "stream",
     "text": [
      "enter a number: 5\n"
     ]
    },
    {
     "data": {
      "text/plain": [
       "'May'"
      ]
     },
     "execution_count": 9,
     "metadata": {},
     "output_type": "execute_result"
    }
   ],
   "source": [
    "def month():\n",
    "    months = \"JanFebMarAprMayJunJulyAugSepOctNovDec\"\n",
    "    num = int(input(\"enter a number: \"))\n",
    "    return months[3*(num-1):3*num]\n",
    "month()"
   ]
  },
  {
   "cell_type": "markdown",
   "metadata": {},
   "source": [
    "# Question 06:"
   ]
  },
  {
   "cell_type": "code",
   "execution_count": 10,
   "metadata": {},
   "outputs": [
    {
     "name": "stdout",
     "output_type": "stream",
     "text": [
      "enter a team name: UITians\n",
      "How do you spell winner?\n",
      "I know,I know!\n",
      "UITIANS!\n",
      "And that's how you spell winner!\n",
      "Go Uitians!\n"
     ]
    }
   ],
   "source": [
    "def cheer():\n",
    "    team_name = str(input(\"enter a team name: \"))\n",
    "    print(\"How do you spell winner?\",\"I know,I know!\",team_name.upper()+\"!\",\"And that's how you spell winner!\",\n",
    "          \"Go\" +\" \"+team_name.capitalize()+\"!\",sep=(\"\\n\"))\n",
    "cheer()"
   ]
  },
  {
   "cell_type": "code",
   "execution_count": 14,
   "metadata": {},
   "outputs": [
    {
     "name": "stdout",
     "output_type": "stream",
     "text": [
      "Whats your Name?: Bilal Yousuf\n",
      "|--------------------------------------|\n",
      "|**************************************|\n",
      "|--------------------------------------|\n",
      "| Code|     Items    |      Price     |\n",
      "|--------------------------------------|\n",
      "|  1    | Chicken Burger |      100      |\n",
      "|  2    |   Egg Burger      |      45       |\n",
      "|  3    |  Cheese Burger  |      280      |\n",
      "|  4    |  Zinger Burger   |      350      |\n",
      "|--------------------------------------|\n",
      "|**************************************|\n",
      "|--------------------------------------|\n",
      "Bilal Yousuf Which one you want? type only Code of item: 2\n",
      "How much you want Egg Burger? 4\n",
      "Total Price for this purchase:  180\n",
      "Do yo want more Burgers? (y/n) n\n",
      "-------------------------------\n",
      "Your Bill is here Sir!\n",
      "________________________________\n",
      "  Name:BILAL YOUSUF\n",
      "________________________________\n",
      "Amount of Purchase: 0\n",
      "________________________________\n",
      "Total Amount with GST 15% is: 207.0\n",
      "________________________________\n"
     ]
    }
   ],
   "source": [
    "#small pos\n",
    "item = {'Chicken Burger':100,'Egg Burger':45,'Cheese Burger':280,'Zinger Burger':350}\n",
    "name = input('Whats your Name?: ')\n",
    "choice = 'y'\n",
    "total = 0\n",
    "summ = 0\n",
    "print(\"|--------------------------------------|\")\n",
    "print(\"|**************************************|\")\n",
    "print(\"|--------------------------------------|\")\n",
    "print(\"| Code|     Items    |      Price     |\")\n",
    "print(\"|--------------------------------------|\")\n",
    "print(\"|  1    | Chicken Burger |      100      |\")\n",
    "print(\"|  2    |   Egg Burger      |      45       |\")\n",
    "print(\"|  3    |  Cheese Burger  |      280      |\")\n",
    "print(\"|  4    |  Zinger Burger   |      350      |\")\n",
    "print(\"|--------------------------------------|\")\n",
    "print(\"|**************************************|\")\n",
    "print(\"|--------------------------------------|\")\n",
    "\n",
    "while choice == 'y':\n",
    "    it = int(input(\"{} Which one you want? type only Code of item: \".format(name)))\n",
    "    if it == 1:\n",
    "        p1 = 0\n",
    "        q1 = int(input(\"How much you want Chicken Burger? \"))\n",
    "        p1 = q1*(item['Chicken Burger'])\n",
    "        print(\"Total Price for this purchase: \",p1)\n",
    "        summ = summ+p1\n",
    "        choice = input(\"Do yo want more Burgers? (y/n) \")\n",
    "        if choice != 'y':\n",
    "            break\n",
    "    if it == 2:\n",
    "        p2 = 0\n",
    "        q2 = int(input(\"How much you want Egg Burger? \"))\n",
    "        p2 = q2*(item['Egg Burger'])\n",
    "        print(\"Total Price for this purchase: \",p2)\n",
    "        summ = summ+p2\n",
    "        choice = input(\"Do yo want more Burgers? (y/n) \")\n",
    "        if choice != 'y':\n",
    "            break\n",
    "    if it == 3:\n",
    "        p3 = 0\n",
    "        q3 = int(input(\"How much you want Cheese Burger? \"))\n",
    "        p3 = q3*(item['Cheese Burger'])\n",
    "        print(\"Total Price for this purchase: \",p3)\n",
    "        summ = summ+p3\n",
    "        choice = input(\"Do yo want more Burgers? (y/n) \")\n",
    "        if choice != 'y':\n",
    "            break\n",
    "    if it == 4:\n",
    "        p4 = 0\n",
    "        q4 = int(input(\"How much you want Zinger Burger? \"))\n",
    "        p4 = q4*(item['Zinger Burger'])\n",
    "        print(\"Total Price for this purchase: \",p4)\n",
    "        summ = summ+p4\n",
    "        choice = input(\"Do yo want more Burgers? (y/n) \")\n",
    "        if choice != 'y':\n",
    "            break\n",
    "\n",
    "gst = summ*0.15\n",
    "am = gst+summ\n",
    "print(\"-------------------------------\")\n",
    "print(\"Your Bill is here Sir!\")\n",
    "print(\"________________________________\")\n",
    "print(\"  Name:{}\".format(name.upper()))\n",
    "print(\"________________________________\")\n",
    "print(\"Amount of Purchase:\",sum)\n",
    "print(\"________________________________\")\n",
    "print(\"Total Amount with GST 15% is:\",am)\n",
    "print(\"________________________________\")\n",
    "        "
   ]
  },
  {
   "cell_type": "code",
   "execution_count": null,
   "metadata": {},
   "outputs": [],
   "source": []
  }
 ],
 "metadata": {
  "kernelspec": {
   "display_name": "Python 3",
   "language": "python",
   "name": "python3"
  },
  "language_info": {
   "codemirror_mode": {
    "name": "ipython",
    "version": 3
   },
   "file_extension": ".py",
   "mimetype": "text/x-python",
   "name": "python",
   "nbconvert_exporter": "python",
   "pygments_lexer": "ipython3",
   "version": "3.7.3"
  }
 },
 "nbformat": 4,
 "nbformat_minor": 2
}
