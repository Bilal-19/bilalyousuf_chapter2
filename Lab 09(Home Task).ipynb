{
 "cells": [
  {
   "cell_type": "markdown",
   "metadata": {},
   "source": [
    "# Lab 09: Sets in Python"
   ]
  },
  {
   "cell_type": "markdown",
   "metadata": {},
   "source": [
    "# Question 01"
   ]
  },
  {
   "cell_type": "code",
   "execution_count": 1,
   "metadata": {},
   "outputs": [
    {
     "name": "stdout",
     "output_type": "stream",
     "text": [
      "{'Rafay', 'Huzaifa', 'Rizwan', 'Ahad', 'Arham'}\n"
     ]
    }
   ],
   "source": [
    "Best_Students = set()\n",
    "for i in range(1,5):\n",
    "    i += 1\n",
    "    Best_Students.add('Huzaifa')\n",
    "    Best_Students.add('Rizwan')\n",
    "    Best_Students.add('Ahad')\n",
    "    Best_Students.add('Rafay')\n",
    "    Best_Students.add('Arham')\n",
    "print(Best_Students)"
   ]
  },
  {
   "cell_type": "markdown",
   "metadata": {},
   "source": [
    "# Question 02"
   ]
  },
  {
   "cell_type": "code",
   "execution_count": 2,
   "metadata": {},
   "outputs": [
    {
     "name": "stdout",
     "output_type": "stream",
     "text": [
      "{'Mohsin', 'Bilal', 'Arham'}\n"
     ]
    }
   ],
   "source": [
    "Students={'Ahad', 'Mohsin', 'Arham', 'Bilal', 'Saqib'}\n",
    "Students.discard('Saqib')\n",
    "Students.discard('Ahad')\n",
    "print(Students)"
   ]
  },
  {
   "cell_type": "markdown",
   "metadata": {},
   "source": [
    "# Question 03"
   ]
  },
  {
   "cell_type": "code",
   "execution_count": 3,
   "metadata": {},
   "outputs": [
    {
     "name": "stdout",
     "output_type": "stream",
     "text": [
      "{'Biryani', 'Pasta', 'Macroni', 'Karahi'}\n",
      "Now pop one by one all dishes\n",
      "After one pop:  {'Pasta', 'Macroni', 'Karahi'}\n",
      "After two pop:  {'Macroni', 'Karahi'}\n",
      "After three pop:  {'Karahi'}\n",
      "After four pop:  set()\n"
     ]
    }
   ],
   "source": [
    "fav_dishes = {'Biryani','Macroni','Karahi','Pasta'}\n",
    "print(fav_dishes)\n",
    "print(\"Now pop one by one all dishes\")\n",
    "fav_dishes.pop()\n",
    "print(\"After one pop: \",fav_dishes)\n",
    "fav_dishes.pop()\n",
    "print(\"After two pop: \",fav_dishes)\n",
    "fav_dishes.pop()\n",
    "print(\"After three pop: \",fav_dishes)\n",
    "fav_dishes.pop()\n",
    "print(\"After four pop: \",fav_dishes)"
   ]
  },
  {
   "cell_type": "markdown",
   "metadata": {},
   "source": [
    "# Question 05"
   ]
  },
  {
   "cell_type": "code",
   "execution_count": 8,
   "metadata": {},
   "outputs": [
    {
     "name": "stdout",
     "output_type": "stream",
     "text": [
      "19 Students play cricket only\n"
     ]
    }
   ],
   "source": [
    "Hockey = 21\n",
    "Universal = 40\n",
    "Both = 10\n",
    "Hockeyonly = Hockey-Both\n",
    "Cricketonly = Universal-Hockeyonly-Both\n",
    "print(Cricketonly,\"Students play cricket only\")"
   ]
  },
  {
   "cell_type": "markdown",
   "metadata": {},
   "source": [
    "# Question 06"
   ]
  },
  {
   "cell_type": "code",
   "execution_count": 7,
   "metadata": {},
   "outputs": [
    {
     "name": "stdout",
     "output_type": "stream",
     "text": [
      "Purchases for a dog only :  38\n",
      "Purchases for a cat only :  54\n",
      "Purchases for fish and dog only :  36\n",
      "Purchases in total :  179\n"
     ]
    }
   ],
   "source": [
    "dog = 83\n",
    "cat = 101\n",
    "fish = 22\n",
    "dogcat = 31\n",
    "dogfish = 8\n",
    "catfish = 10\n",
    "dogfishcat = 6\n",
    "other = 34\n",
    "\n",
    "dogonly = dog - dogcat - dogfish - dogfishcat\n",
    "catonly = cat - dogcat - catfish - dogfishcat\n",
    "fishonly = fish - catfish - dogfish - dogfishcat\n",
    "total = dogfish + dogcat + catfish + dogfishcat + other + fishonly + catonly + dogonly\n",
    "\n",
    "print('Purchases for a dog only : ',dogonly)\n",
    "print('Purchases for a cat only : ',catonly)\n",
    "print('Purchases for fish and dog only : ',fishonly + dogonly)\n",
    "print(\"Purchases in total : \",total)"
   ]
  }
 ],
 "metadata": {
  "kernelspec": {
   "display_name": "Python 3",
   "language": "python",
   "name": "python3"
  },
  "language_info": {
   "codemirror_mode": {
    "name": "ipython",
    "version": 3
   },
   "file_extension": ".py",
   "mimetype": "text/x-python",
   "name": "python",
   "nbconvert_exporter": "python",
   "pygments_lexer": "ipython3",
   "version": "3.7.3"
  }
 },
 "nbformat": 4,
 "nbformat_minor": 2
}
