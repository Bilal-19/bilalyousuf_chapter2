{
 "cells": [
  {
   "cell_type": "markdown",
   "metadata": {},
   "source": [
    "# Lab 08: Dictionaries In Python"
   ]
  },
  {
   "cell_type": "markdown",
   "metadata": {},
   "source": [
    "# Question 01:"
   ]
  },
  {
   "cell_type": "code",
   "execution_count": 1,
   "metadata": {},
   "outputs": [
    {
     "name": "stdout",
     "output_type": "stream",
     "text": [
      "{'My name': 'Bilal', 'Father Name': 'Muhammad Yousuf', 'Mother Name': 'Saira', 'Sister Name': 'Mahnoor', 'Grandfather_1': 'Haroon', 'Grandmother_1': 'Haleema', 'Grandfather_2': 'Umer', 'Grandmother_2': 'Hanifa', 'Uncle_1': 'Tauseef', 'Aunt_1': 'Fatima', 'Uncle_2': 'Arif', 'Aunt_2': 'Sakina'}\n"
     ]
    }
   ],
   "source": [
    "dict1 = {'My name':'Bilal','Father Name':'Muhammad Yousuf','Mother Name':'Saira','Sister Name':'Mahnoor'}\n",
    "dict1['Grandfather_1'] = 'Haroon'\n",
    "dict1['Grandmother_1'] = 'Haleema'\n",
    "dict1['Grandfather_2'] = 'Umer'\n",
    "dict1['Grandmother_2'] = 'Hanifa'\n",
    "dict1['Uncle_1'] = 'Tauseef'\n",
    "dict1['Aunt_1'] = 'Fatima'\n",
    "dict1['Uncle_2'] = 'Arif'\n",
    "dict1['Aunt_2'] = 'Sakina'\n",
    "print(dict1)"
   ]
  },
  {
   "cell_type": "markdown",
   "metadata": {},
   "source": [
    "# Question 02:"
   ]
  },
  {
   "cell_type": "code",
   "execution_count": 2,
   "metadata": {},
   "outputs": [
    {
     "name": "stdout",
     "output_type": "stream",
     "text": [
      "enter the key to be deleted: 10\n",
      "{1: {'name': 'Bilal', 'phone no': '03082491543'}, 2: {'name': 'Rizwan', 'phone no': '03567896456'}, 3: {'name': 'Huzaifa', 'phone no': '03215649786'}, 4: {'name': 'Osarim', 'phone no': '0321654987'}, 5: {'name': 'Faheem', 'phone no': '0321654123'}, 6: {'name': 'Aliyan', 'phone no': '0321654789'}, 7: {'name': 'Abdul Rafay', 'phone no': '0321659321'}, 8: {'name': 'Rohan', 'phone no': '0321654654'}, 9: {'name': 'Owais', 'phone no': '03216549987'}, 11: {'name': 'Aftab', 'phone no': '03256678968'}, 12: {'name': 'Abdul Samad', 'phone no': '0311654528'}}\n"
     ]
    },
    {
     "data": {
      "text/plain": [
       "11"
      ]
     },
     "execution_count": 2,
     "metadata": {},
     "output_type": "execute_result"
    }
   ],
   "source": [
    "def directory():\n",
    "    phone = {1: {'name':'Bilal','phone no':'03082491543'},\n",
    "            2: {'name':'Rizwan','phone no':'03567896456'},\n",
    "            3: {'name':'Huzaifa','phone no':'03215649786'},\n",
    "            4: {'name':'Osarim','phone no':'0321654987'},\n",
    "            5: {'name':'Faheem','phone no':'0321654123'},\n",
    "            6: {'name':'Aliyan','phone no':'0321654789'},\n",
    "            7: {'name':'Abdul Rafay','phone no':'0321659321'},\n",
    "            8: {'name':'Rohan','phone no':'0321654654'},\n",
    "            9: {'name':'Owais','phone no':'03216549987'},\n",
    "            10: {'name':'Saad','phone no':'0321654987'},\n",
    "            11: {'name':'Aftab','phone no':'03256678968'},\n",
    "            12: {'name':'Abdul Samad','phone no':'0311654528'}}\n",
    "    return phone\n",
    "def delete_num(phone):\n",
    "    no = int(input(\"enter the key to be deleted: \"))\n",
    "    phone.pop(no)\n",
    "    count = len(phone)\n",
    "    print(phone)\n",
    "    return count\n",
    "a = directory()\n",
    "delete_num(a)"
   ]
  },
  {
   "cell_type": "markdown",
   "metadata": {},
   "source": [
    "# Question 03:"
   ]
  },
  {
   "cell_type": "code",
   "execution_count": 3,
   "metadata": {},
   "outputs": [
    {
     "name": "stdout",
     "output_type": "stream",
     "text": [
      "enter value: 4\n",
      "52\n"
     ]
    }
   ],
   "source": [
    "def hexASCII(strs):\n",
    "    i = ord(strs)\n",
    "    print('{}'.format(i))\n",
    "strs = input(\"enter value: \")\n",
    "hexASCII(strs.lower())"
   ]
  },
  {
   "cell_type": "markdown",
   "metadata": {},
   "source": [
    "# Question 04:"
   ]
  },
  {
   "cell_type": "code",
   "execution_count": 4,
   "metadata": {},
   "outputs": [
    {
     "name": "stdout",
     "output_type": "stream",
     "text": [
      "1\n"
     ]
    }
   ],
   "source": [
    "count = 0\n",
    "dishes = {1:'Spaghetti', 2:'Biryani', 3:'Dal Chawal', 4:'Fries'}\n",
    "my_list = {1:'Macaroni', 2:'Spaghetti', 3:'Burger', 4:'Chinese rice'}\n",
    "for x in dishes.values():\n",
    "    for y in my_list.values():\n",
    "        if x is y:\n",
    "            count+=1\n",
    "print(count)"
   ]
  },
  {
   "cell_type": "markdown",
   "metadata": {},
   "source": [
    "# Question 05:"
   ]
  },
  {
   "cell_type": "code",
   "execution_count": 5,
   "metadata": {},
   "outputs": [
    {
     "name": "stdout",
     "output_type": "stream",
     "text": [
      "['Sister', 'Father', 'Brother', 'Grandmother_1', 'Grandfather_2', 'Grandfather_1', 'Grandmother_2', 'Mother']\n",
      "The total number of guest coming on wedding are 8\n"
     ]
    }
   ],
   "source": [
    "my_list = ['Father','Mother','Sister','Brother','Grandfather_1','Grandmother_1','Grandfather_2','Grandmother_2','friend_1','friend_2','cousin_1','cousin_2']\n",
    "parent_list = ['Father','Mother','Sister','Brother','Grandfather_1','Grandmother_1','Grandfather_2','Grandmother_2','Uncle_1','Aunt_1','Uncle_2', 'Aunt_2']\n",
    "def common_guest(my_list,parent_list):\n",
    "    com_list = list(set(my_list).intersection(parent_list))\n",
    "    print(com_list)\n",
    "    count = len(com_list)\n",
    "    print(\"The total number of guest coming on wedding are\", count)\n",
    "common_guest(my_list,parent_list)"
   ]
  }
 ],
 "metadata": {
  "kernelspec": {
   "display_name": "Python 3",
   "language": "python",
   "name": "python3"
  },
  "language_info": {
   "codemirror_mode": {
    "name": "ipython",
    "version": 3
   },
   "file_extension": ".py",
   "mimetype": "text/x-python",
   "name": "python",
   "nbconvert_exporter": "python",
   "pygments_lexer": "ipython3",
   "version": "3.7.3"
  }
 },
 "nbformat": 4,
 "nbformat_minor": 2
}
