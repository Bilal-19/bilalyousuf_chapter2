{
 "cells": [
  {
   "cell_type": "markdown",
   "metadata": {},
   "source": [
    "# Lab 05:While Loop and User Defined Functions(UDF)"
   ]
  },
  {
   "cell_type": "markdown",
   "metadata": {},
   "source": [
    "# Question 01:"
   ]
  },
  {
   "cell_type": "code",
   "execution_count": 1,
   "metadata": {},
   "outputs": [
    {
     "data": {
      "text/plain": [
       "282.7433388230814"
      ]
     },
     "execution_count": 1,
     "metadata": {},
     "output_type": "execute_result"
    }
   ],
   "source": [
    "#(a)Calculating the area of cylinder.\n",
    "from math import pi\n",
    "def area(r,h):\n",
    "    area = 2*pi*r*h+2*pi*r**2\n",
    "    return area\n",
    "area(5,4)"
   ]
  },
  {
   "cell_type": "code",
   "execution_count": 2,
   "metadata": {},
   "outputs": [
    {
     "data": {
      "text/plain": [
       "471.23889803846896"
      ]
     },
     "execution_count": 2,
     "metadata": {},
     "output_type": "execute_result"
    }
   ],
   "source": [
    "#(b)Calculating the volume of cylinder\n",
    "from math import pi\n",
    "def volume(r,h):\n",
    "    volume = pi*(r**2)*h\n",
    "    return volume\n",
    "volume(5,6)"
   ]
  },
  {
   "cell_type": "markdown",
   "metadata": {},
   "source": [
    "# Question 02:"
   ]
  },
  {
   "cell_type": "code",
   "execution_count": 3,
   "metadata": {},
   "outputs": [
    {
     "data": {
      "text/plain": [
       "9"
      ]
     },
     "execution_count": 3,
     "metadata": {},
     "output_type": "execute_result"
    }
   ],
   "source": [
    "#(a)Calculating the area of rectangle\n",
    "def area(l,w):\n",
    "    area = l*w\n",
    "    return area\n",
    "area(3,3)"
   ]
  },
  {
   "cell_type": "code",
   "execution_count": 4,
   "metadata": {},
   "outputs": [
    {
     "data": {
      "text/plain": [
       "64"
      ]
     },
     "execution_count": 4,
     "metadata": {},
     "output_type": "execute_result"
    }
   ],
   "source": [
    "#(b)Calculating the volume of rectangle\n",
    "def volume(l,b,h):\n",
    "    volume = l*b*h\n",
    "    return volume\n",
    "volume(4,4,4)"
   ]
  },
  {
   "cell_type": "markdown",
   "metadata": {},
   "source": [
    "# Question 03:"
   ]
  },
  {
   "cell_type": "code",
   "execution_count": 1,
   "metadata": {},
   "outputs": [
    {
     "name": "stdout",
     "output_type": "stream",
     "text": [
      "enter the first term: 5\n",
      "enter the common difference: 6\n",
      "enter number of terms: 8\n",
      "continue: Yes\n",
      "The nth term: 35\n",
      "47\n",
      "continue: No\n"
     ]
    }
   ],
   "source": [
    "#Calculate the arithmetic sequence of n numbers,\n",
    "a_1 = int(input(\"enter the first term: \"))\n",
    "d = int(input(\"enter the common difference: \"))\n",
    "n = int(input(\"enter number of terms: \"))\n",
    "a = 1\n",
    "while(a==1):\n",
    "    c = str(input(\"continue: \"))\n",
    "    if c == \"Yes\":\n",
    "        a_n = int(input(\"The nth term: \"))\n",
    "        a_n = a_1+(n-1)*d\n",
    "        print(a_n)\n",
    "    elif c == \"No\":\n",
    "        c = \"No\"\n",
    "        a == 0\n",
    "        break"
   ]
  },
  {
   "cell_type": "markdown",
   "metadata": {},
   "source": [
    "# Question 04:"
   ]
  },
  {
   "cell_type": "code",
   "execution_count": 2,
   "metadata": {},
   "outputs": [
    {
     "name": "stdout",
     "output_type": "stream",
     "text": [
      "enter a string: CIVIC\n",
      "civic\n",
      "5\n",
      "CIVIC\n",
      "sorry, your string is not palindrome\n"
     ]
    }
   ],
   "source": [
    "def palindrome(myString):\n",
    "    x = myString.casefold()\n",
    "    print(x)\n",
    "    y = len(myString)\n",
    "    print(y)\n",
    "    z = myString[y::-1]\n",
    "    print(z)\n",
    "    if x == z:\n",
    "        print(\"Yes, your string is palindrome: \")\n",
    "    else:\n",
    "        print(\"sorry, your string is not palindrome\")\n",
    "    return\n",
    "myString = input(\"enter a string: \")\n",
    "palindrome(myString)"
   ]
  },
  {
   "cell_type": "markdown",
   "metadata": {},
   "source": [
    "# Question 07:"
   ]
  },
  {
   "cell_type": "code",
   "execution_count": 23,
   "metadata": {},
   "outputs": [
    {
     "name": "stdout",
     "output_type": "stream",
     "text": [
      "enter intitial velocity: 5\n",
      "enter acceleratin due to gravity: 10\n",
      "enter acceleration: 5\n",
      "Projectile motion: \n",
      "maximum height:  -68.00263886117122 m\n"
     ]
    }
   ],
   "source": [
    "import math\n",
    "v = int(input(\"enter intitial velocity: \"))\n",
    "g = int(input(\"enter acceleratin due to gravity: \"))\n",
    "a = int(input(\"enter acceleration: \"))\n",
    "\n",
    "def projectile_motion(v,g,a):\n",
    "    h = ((v**2)*math.sin(2*a))/2*g\n",
    "    print(\"Projectile motion: \")\n",
    "    print(\"maximum height: \",(h),('m'))\n",
    "projectile_motion(v,g,a)"
   ]
  },
  {
   "cell_type": "markdown",
   "metadata": {},
   "source": [
    "# Question 08:"
   ]
  },
  {
   "cell_type": "code",
   "execution_count": 32,
   "metadata": {},
   "outputs": [
    {
     "name": "stdout",
     "output_type": "stream",
     "text": [
      "enter name: Bilal\n"
     ]
    },
    {
     "data": {
      "text/plain": [
       "'laliB'"
      ]
     },
     "execution_count": 32,
     "metadata": {},
     "output_type": "execute_result"
    }
   ],
   "source": [
    "name = str(input(\"enter name: \"))\n",
    "def reverse(name):\n",
    "    reverse = name[::-1]\n",
    "    return reverse\n",
    "reverse(name)"
   ]
  }
 ],
 "metadata": {
  "kernelspec": {
   "display_name": "Python 3",
   "language": "python",
   "name": "python3"
  },
  "language_info": {
   "codemirror_mode": {
    "name": "ipython",
    "version": 3
   },
   "file_extension": ".py",
   "mimetype": "text/x-python",
   "name": "python",
   "nbconvert_exporter": "python",
   "pygments_lexer": "ipython3",
   "version": "3.7.3"
  }
 },
 "nbformat": 4,
 "nbformat_minor": 2
}
