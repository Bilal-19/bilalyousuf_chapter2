{
 "cells": [
  {
   "cell_type": "markdown",
   "metadata": {},
   "source": [
    "# Lab 04:Conditional Statements and Simple Loops"
   ]
  },
  {
   "cell_type": "markdown",
   "metadata": {},
   "source": [
    "# Programming Exercise:"
   ]
  },
  {
   "cell_type": "markdown",
   "metadata": {},
   "source": [
    "# Question: 01"
   ]
  },
  {
   "cell_type": "code",
   "execution_count": 1,
   "metadata": {},
   "outputs": [
    {
     "name": "stdout",
     "output_type": "stream",
     "text": [
      "Enter the value of a: 5\n",
      "Enter the value of b: 2\n",
      "Enter the value of c: 8\n",
      "The solutions are:  ('y1=', (-0.2-1.2489995996796797j), 'y2=', (-0.2+1.2489995996796797j))\n"
     ]
    }
   ],
   "source": [
    "from math import sqrt\n",
    "import cmath\n",
    "a = eval(input(\"Enter the value of a: \"))\n",
    "b = eval(input(\"Enter the value of b: \"))\n",
    "c = eval(input(\"Enter the value of c: \"))\n",
    "if a == 0:\n",
    "    print (\"Denominator is zero,Hence the Equation cannot solved\")\n",
    "elif (b < a and b < c) or (b > a and b < c):\n",
    "    d = (b**2) - (4*a*c)\n",
    "    y1 = (-b-cmath.sqrt(d))/(2*a)\n",
    "    y2 = (-b+cmath.sqrt(d))/(2*a)\n",
    "    print(\"The solutions are: \",(\"y1=\",y1,\"y2=\",y2))\n",
    "else:\n",
    "    z = (b**2)-(4*a*c)\n",
    "    y1 = (-b-cmath.sqrt(z))/(2*a)\n",
    "    y2 = (-b+cmath.sqrt(z))/(2*a)\n",
    "    print(\"y1= \",y1,\"y2= \",y2)"
   ]
  },
  {
   "cell_type": "markdown",
   "metadata": {},
   "source": [
    "# Question 2:"
   ]
  },
  {
   "cell_type": "code",
   "execution_count": 2,
   "metadata": {},
   "outputs": [
    {
     "name": "stdout",
     "output_type": "stream",
     "text": [
      "Enter first term: 2\n",
      "Enter number of term: 6\n",
      "Enter common difference: 3\n",
      "17\n"
     ]
    }
   ],
   "source": [
    "a = int(input(\"Enter first term: \"))\n",
    "n = int(input(\"Enter number of term: \"))\n",
    "d = int(input(\"Enter common difference: \"))\n",
    "an = a + (n-1) * d\n",
    "print(an)"
   ]
  },
  {
   "cell_type": "markdown",
   "metadata": {},
   "source": [
    "# Question 03:"
   ]
  },
  {
   "cell_type": "code",
   "execution_count": 3,
   "metadata": {},
   "outputs": [
    {
     "name": "stdout",
     "output_type": "stream",
     "text": [
      "Enter a string: civic\n",
      "Yes, your string is palindrome\n"
     ]
    }
   ],
   "source": [
    "string = input(\"Enter a string: \")\n",
    "if (string==string[::-1]):\n",
    "    print(\"Yes, your string is palindrome\")\n",
    "else:\n",
    "    print(\"Soory, your string is not palindrome\")"
   ]
  },
  {
   "cell_type": "markdown",
   "metadata": {},
   "source": [
    "# Questiom 04:"
   ]
  },
  {
   "cell_type": "code",
   "execution_count": 4,
   "metadata": {},
   "outputs": [
    {
     "name": "stdout",
     "output_type": "stream",
     "text": [
      "enter your name: Bilal\n",
      "enter your father name: Muhammad Yousuf\n",
      "enter your roll no: 52\n",
      "Your Percentage is:  ('percentage', 81.6)\n",
      "congratulations, you got A+ grade\n"
     ]
    }
   ],
   "source": [
    "a = str(input(\"enter your name: \"))\n",
    "b = str(input(\"enter your father name: \"))\n",
    "c = int(input(\"enter your roll no: \"))\n",
    "Mathematics = 87\n",
    "Islamiat = 73\n",
    "Physics = 80\n",
    "English = 79\n",
    "Chemistry = 89\n",
    "Obtainedmarks = (Mathematics + Islamiat + Physics + Chemistry + English)\n",
    "Totalmarks = 500\n",
    "percentage = (Obtainedmarks/Totalmarks)*100\n",
    "print(\"Your Percentage is: \", (\"percentage\",percentage))\n",
    "if(percentage>=80):\n",
    "    print(\"congratulations, you got A+ grade\")\n",
    "elif(percentage>=70&percentage<80):\n",
    "    print(\"congratulations, you got A grade\")\n",
    "else:\n",
    "    print(\"You got B grade\")"
   ]
  },
  {
   "cell_type": "markdown",
   "metadata": {},
   "source": [
    "# Question 05:"
   ]
  },
  {
   "cell_type": "code",
   "execution_count": 5,
   "metadata": {},
   "outputs": [
    {
     "name": "stdout",
     "output_type": "stream",
     "text": [
      "enter number of rows: 5\n",
      "enter the number of columns: 5\n",
      "enter the entries row wise: \n",
      "1\n",
      "2\n",
      "3\n",
      "4\n",
      "5\n",
      "2\n",
      "4\n",
      "6\n",
      "8\n",
      "10\n",
      "3\n",
      "6\n",
      "9\n",
      "1\n",
      "15\n",
      "4\n",
      "8\n",
      "12\n",
      "16\n",
      "20\n",
      "5\n",
      "10\n",
      "15\n",
      "20\n",
      "25\n",
      "1 2 3 4 5 \n",
      "2 4 6 8 10 \n",
      "3 6 9 1 15 \n",
      "4 8 12 16 20 \n",
      "5 10 15 20 25 \n"
     ]
    }
   ],
   "source": [
    "row_num = int(input(\"enter number of rows: \"))\n",
    "col_num = int(input(\"enter the number of columns: \"))\n",
    "\n",
    "matrix = []\n",
    "print(\"enter the entries row wise: \")\n",
    "for row in range(row_num):\n",
    "    a = []\n",
    "    for col in range(col_num):\n",
    "        a.append(int(input()))\n",
    "    matrix.append(a)\n",
    "    \n",
    "for row in range(row_num):\n",
    "    for col in range(col_num):\n",
    "        print(matrix[row][col],end = \" \")\n",
    "    print()"
   ]
  },
  {
   "cell_type": "markdown",
   "metadata": {},
   "source": [
    "# Question 06:"
   ]
  },
  {
   "cell_type": "code",
   "execution_count": 7,
   "metadata": {},
   "outputs": [
    {
     "name": "stdout",
     "output_type": "stream",
     "text": [
      "[8, 10, 0]\n",
      "[14, 16, 0]\n"
     ]
    }
   ],
   "source": [
    "X = [[1,2,3],[4,5,6]]\n",
    "Y = [[7,8,9],[10,11,12]]\n",
    "\n",
    "result = [[0,0,0],[0,0,0]]\n",
    "\n",
    "for i in range(len(X)):\n",
    "    for j in range(len(Y)):\n",
    "        result[i][j] +=  X[i][j] + Y[i][j]\n",
    "for r in result:\n",
    "    print(r)"
   ]
  },
  {
   "cell_type": "markdown",
   "metadata": {},
   "source": [
    "# Question 07:"
   ]
  },
  {
   "cell_type": "code",
   "execution_count": 8,
   "metadata": {},
   "outputs": [
    {
     "name": "stdout",
     "output_type": "stream",
     "text": [
      "[121, 126, 113]\n",
      "[119, 124, 117]\n",
      "[119, 126, 115]\n"
     ]
    }
   ],
   "source": [
    "x=[[4,5,6],[6,5,4],[5,4,6]]\n",
    "y=[[7,8,9],[9,8,7],[8,9,7]]\n",
    "result=[[0,0,0],[0,0,0],[0,0,0]]\n",
    "for i in range(len(x)):\n",
    "    for j in range(len(y)):\n",
    "        for k in range(len(y)):\n",
    "            result[i][j] += x[i][k]*y[k][j]\n",
    "for r in result:\n",
    "    print(r)"
   ]
  }
 ],
 "metadata": {
  "kernelspec": {
   "display_name": "Python 3",
   "language": "python",
   "name": "python3"
  },
  "language_info": {
   "codemirror_mode": {
    "name": "ipython",
    "version": 3
   },
   "file_extension": ".py",
   "mimetype": "text/x-python",
   "name": "python",
   "nbconvert_exporter": "python",
   "pygments_lexer": "ipython3",
   "version": "3.7.3"
  }
 },
 "nbformat": 4,
 "nbformat_minor": 2
}
